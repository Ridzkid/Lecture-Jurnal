{
 "cells": [
  {
   "cell_type": "code",
   "execution_count": 67,
   "metadata": {},
   "outputs": [
    {
     "name": "stdout",
     "output_type": "stream",
     "text": [
      "10 sama dengan 10\n"
     ]
    }
   ],
   "source": [
    "# Kondisi lebih dari 2\n",
    "angka = 10\n",
    "if angka >10:\n",
    "    print (f\"{angka} lebih besar dari 10\")\n",
    "elif angka == 10:\n",
    "    print (f\"{angka} sama dengan 10\")\n",
    "else:\n",
    "    print (f\"{angka} lebih besar dari 10\")"
   ]
  },
  {
   "cell_type": "code",
   "execution_count": 55,
   "metadata": {},
   "outputs": [
    {
     "name": "stdout",
     "output_type": "stream",
     "text": [
      "3 adalah ganjil\n"
     ]
    }
   ],
   "source": [
    "# cek ganjil genap\n",
    "angka = 3\n",
    "if angka % 2 != 0:\n",
    "    print (f\"{angka} adalah ganjil\")\n",
    "else :\n",
    "    print (f\"{angka} adalah genap\")\n"
   ]
  },
  {
   "cell_type": "code",
   "execution_count": 68,
   "metadata": {},
   "outputs": [],
   "source": [
    "menu = [\"nasi goreng\",\n",
    "        \"mie ayam\",\n",
    "        \"soto ayam\"\n",
    "        \"ayam penyet\"]"
   ]
  },
  {
   "cell_type": "code",
   "execution_count": 70,
   "metadata": {},
   "outputs": [
    {
     "name": "stdout",
     "output_type": "stream",
     "text": [
      "abangnya ga jual mie yamin\n"
     ]
    }
   ],
   "source": [
    "makanan = \"mie yamin\"\n",
    "if makanan in menu:\n",
    "    print (f\"abangnya jual {makanan}\")\n",
    "else :\n",
    "    print (f\"abangnya ga jual {makanan}\")"
   ]
  },
  {
   "cell_type": "code",
   "execution_count": 76,
   "metadata": {},
   "outputs": [],
   "source": [
    "TukangBuah = [\"jeruk\",\"pisang\"]"
   ]
  },
  {
   "cell_type": "code",
   "execution_count": 80,
   "metadata": {},
   "outputs": [
    {
     "data": {
      "text/plain": [
       "2"
      ]
     },
     "execution_count": 80,
     "metadata": {},
     "output_type": "execute_result"
    }
   ],
   "source": [
    "len(TukangBuah)\n",
    "#Untuk mengetahui berapa elemen yang terdapat pada TukangBuah"
   ]
  },
  {
   "cell_type": "code",
   "execution_count": 79,
   "metadata": {},
   "outputs": [
    {
     "name": "stdout",
     "output_type": "stream",
     "text": [
      "Skip Cari tukang buah lain\n"
     ]
    }
   ],
   "source": [
    "if len(TukangBuah) > 3:\n",
    "    if 'jeruk' in TukangBuah:\n",
    "        print('Beli Jeruk')\n",
    "    else:\n",
    "        print(\"Mampir Aja\")\n",
    "else: print(\"Skip Cari tukang buah lain\")"
   ]
  },
  {
   "cell_type": "code",
   "execution_count": 87,
   "metadata": {},
   "outputs": [
    {
     "name": "stdout",
     "output_type": "stream",
     "text": [
      "mampir\n"
     ]
    }
   ],
   "source": [
    "TukangBuah= [\"jeruk\",'pisang', 'mangga']\n",
    "if 'jeruk' in TukangBuah and 'mangga' in TukangBuah:\n",
    "    print (\"mampir\")\n",
    "else:\n",
    "    print(\"skip, cari yang lain\")\n"
   ]
  },
  {
   "cell_type": "code",
   "execution_count": 102,
   "metadata": {},
   "outputs": [
    {
     "name": "stdout",
     "output_type": "stream",
     "text": [
      "A\n"
     ]
    }
   ],
   "source": [
    "Nilai= 421\n",
    "if Nilai > 100:\n",
    "    print ('Tidak Terinput')\n",
    "elif Nilai <= 100 and Nilai <= 85:\n",
    "    print ('A')\n",
    "elif Nilai <= 85\n",
    "    print ('B')\n",
    "elif Nilai <= 65:\n",
    "    print('C') \n",
    "elif Nilai <= 40:\n",
    "    print(\"D\")   \n",
    "elif Nilai:\n",
    "    print (\"E\") \n",
    "elif Nilai <= 0: \n",
    "    print (\"Invalid\")    \n",
    "#Salah nih                                                                                  "
   ]
  },
  {
   "cell_type": "code",
   "execution_count": 107,
   "metadata": {},
   "outputs": [
    {
     "name": "stdout",
     "output_type": "stream",
     "text": [
      "Nilai D\n"
     ]
    }
   ],
   "source": [
    "nilai=30\n",
    "\n",
    "if nilai>=80 and nilai<=100:\n",
    "    print(\"Nilai A\")\n",
    "elif nilai>=65 and nilai<80:\n",
    "    print(\"Nilai B\")\n",
    "elif nilai>=40 and nilai<65:\n",
    "    print(\"Nilai C\")\n",
    "elif nilai>=20 and nilai<40:\n",
    "    print(\"Nilai D\")\n",
    "elif nilai>=0 and nilai<20:\n",
    "    print(\"Nilai E\")\n",
    "else:\n",
    "    print(\"Nilai Invalid\")\n",
    "# Ketinggalan yang input\n"
   ]
  },
  {
   "cell_type": "markdown",
   "metadata": {},
   "source": [
    "##Looping\n"
   ]
  },
  {
   "cell_type": "code",
   "execution_count": 132,
   "metadata": {},
   "outputs": [
    {
     "name": "stdout",
     "output_type": "stream",
     "text": [
      "i ke : 0 \n",
      "hallo, Saya Afif\n",
      "i ke : 1 \n",
      "hallo, Saya Afif\n",
      "i ke : 2 \n",
      "hallo, Saya Afif\n",
      "i ke : 3 \n",
      "hallo, Saya Afif\n",
      "i ke : 4 \n",
      "hallo, Saya Afif\n"
     ]
    }
   ],
   "source": [
    "i=0\n",
    "while i < 5:\n",
    "    print (f'i ke : {i} ')\n",
    "    print (\"hallo, Saya Afif\")\n",
    "    i=i+1"
   ]
  },
  {
   "cell_type": "code",
   "execution_count": 145,
   "metadata": {},
   "outputs": [
    {
     "ename": "KeyboardInterrupt",
     "evalue": "Interrupted by user",
     "output_type": "error",
     "traceback": [
      "\u001b[1;31m---------------------------------------------------------------------------\u001b[0m",
      "\u001b[1;31mKeyboardInterrupt\u001b[0m                         Traceback (most recent call last)",
      "\u001b[1;32m~\\AppData\\Local\\Temp/ipykernel_15060/1385903865.py\u001b[0m in \u001b[0;36m<module>\u001b[1;34m\u001b[0m\n\u001b[0;32m      2\u001b[0m \u001b[0mpesan\u001b[0m \u001b[1;33m=\u001b[0m \u001b[1;34m''\u001b[0m\u001b[1;33m\u001b[0m\u001b[1;33m\u001b[0m\u001b[0m\n\u001b[0;32m      3\u001b[0m \u001b[1;32mwhile\u001b[0m \u001b[0mpesan\u001b[0m \u001b[1;33m!=\u001b[0m \u001b[1;34m'cukup'\u001b[0m\u001b[1;33m:\u001b[0m\u001b[1;33m\u001b[0m\u001b[1;33m\u001b[0m\u001b[0m\n\u001b[1;32m----> 4\u001b[1;33m     \u001b[0mpesan\u001b[0m \u001b[1;33m=\u001b[0m \u001b[0minput\u001b[0m\u001b[1;33m(\u001b[0m\u001b[1;34m\"Masukan pesanan Anda: \"\u001b[0m\u001b[1;33m)\u001b[0m\u001b[1;33m\u001b[0m\u001b[1;33m\u001b[0m\u001b[0m\n\u001b[0m\u001b[0;32m      5\u001b[0m     \u001b[1;32mif\u001b[0m \u001b[0mpesan\u001b[0m \u001b[1;33m!=\u001b[0m \u001b[1;34m'cukup'\u001b[0m\u001b[1;33m:\u001b[0m\u001b[1;33m\u001b[0m\u001b[1;33m\u001b[0m\u001b[0m\n\u001b[0;32m      6\u001b[0m       \u001b[0mpesanan\u001b[0m\u001b[1;33m.\u001b[0m\u001b[0mappend\u001b[0m\u001b[1;33m(\u001b[0m\u001b[0mpesan\u001b[0m\u001b[1;33m)\u001b[0m\u001b[1;33m\u001b[0m\u001b[1;33m\u001b[0m\u001b[0m\n",
      "\u001b[1;32m~\\anaconda3\\lib\\site-packages\\ipykernel\\kernelbase.py\u001b[0m in \u001b[0;36mraw_input\u001b[1;34m(self, prompt)\u001b[0m\n\u001b[0;32m   1004\u001b[0m                 \u001b[1;34m\"raw_input was called, but this frontend does not support input requests.\"\u001b[0m\u001b[1;33m\u001b[0m\u001b[1;33m\u001b[0m\u001b[0m\n\u001b[0;32m   1005\u001b[0m             )\n\u001b[1;32m-> 1006\u001b[1;33m         return self._input_request(\n\u001b[0m\u001b[0;32m   1007\u001b[0m             \u001b[0mstr\u001b[0m\u001b[1;33m(\u001b[0m\u001b[0mprompt\u001b[0m\u001b[1;33m)\u001b[0m\u001b[1;33m,\u001b[0m\u001b[1;33m\u001b[0m\u001b[1;33m\u001b[0m\u001b[0m\n\u001b[0;32m   1008\u001b[0m             \u001b[0mself\u001b[0m\u001b[1;33m.\u001b[0m\u001b[0m_parent_ident\u001b[0m\u001b[1;33m[\u001b[0m\u001b[1;34m\"shell\"\u001b[0m\u001b[1;33m]\u001b[0m\u001b[1;33m,\u001b[0m\u001b[1;33m\u001b[0m\u001b[1;33m\u001b[0m\u001b[0m\n",
      "\u001b[1;32m~\\anaconda3\\lib\\site-packages\\ipykernel\\kernelbase.py\u001b[0m in \u001b[0;36m_input_request\u001b[1;34m(self, prompt, ident, parent, password)\u001b[0m\n\u001b[0;32m   1049\u001b[0m             \u001b[1;32mexcept\u001b[0m \u001b[0mKeyboardInterrupt\u001b[0m\u001b[1;33m:\u001b[0m\u001b[1;33m\u001b[0m\u001b[1;33m\u001b[0m\u001b[0m\n\u001b[0;32m   1050\u001b[0m                 \u001b[1;31m# re-raise KeyboardInterrupt, to truncate traceback\u001b[0m\u001b[1;33m\u001b[0m\u001b[1;33m\u001b[0m\u001b[0m\n\u001b[1;32m-> 1051\u001b[1;33m                 \u001b[1;32mraise\u001b[0m \u001b[0mKeyboardInterrupt\u001b[0m\u001b[1;33m(\u001b[0m\u001b[1;34m\"Interrupted by user\"\u001b[0m\u001b[1;33m)\u001b[0m \u001b[1;32mfrom\u001b[0m \u001b[1;32mNone\u001b[0m\u001b[1;33m\u001b[0m\u001b[1;33m\u001b[0m\u001b[0m\n\u001b[0m\u001b[0;32m   1052\u001b[0m             \u001b[1;32mexcept\u001b[0m \u001b[0mException\u001b[0m\u001b[1;33m:\u001b[0m\u001b[1;33m\u001b[0m\u001b[1;33m\u001b[0m\u001b[0m\n\u001b[0;32m   1053\u001b[0m                 \u001b[0mself\u001b[0m\u001b[1;33m.\u001b[0m\u001b[0mlog\u001b[0m\u001b[1;33m.\u001b[0m\u001b[0mwarning\u001b[0m\u001b[1;33m(\u001b[0m\u001b[1;34m\"Invalid Message:\"\u001b[0m\u001b[1;33m,\u001b[0m \u001b[0mexc_info\u001b[0m\u001b[1;33m=\u001b[0m\u001b[1;32mTrue\u001b[0m\u001b[1;33m)\u001b[0m\u001b[1;33m\u001b[0m\u001b[1;33m\u001b[0m\u001b[0m\n",
      "\u001b[1;31mKeyboardInterrupt\u001b[0m: Interrupted by user"
     ]
    }
   ],
   "source": [
    "pesanan = []\n",
    "pesan = ''\n",
    "while pesan != 'cukup':\n",
    "    pesan = input(\"Masukan pesanan Anda: \")\n",
    "    if pesan != 'cukup':\n",
    "      pesanan.append(pesan)   "
   ]
  },
  {
   "cell_type": "code",
   "execution_count": 148,
   "metadata": {},
   "outputs": [
    {
     "name": "stdout",
     "output_type": "stream",
     "text": [
      "7 dikali 1 = 7\n",
      "7 dikali 2 = 14\n",
      "7 dikali 3 = 21\n",
      "7 dikali 4 = 28\n",
      "7 dikali 5 = 35\n",
      "7 dikali 6 = 42\n",
      "7 dikali 7 = 49\n",
      "7 dikali 8 = 56\n",
      "7 dikali 9 = 63\n",
      "7 dikali 10 = 70\n"
     ]
    }
   ],
   "source": [
    "i= 1\n",
    "while i <= 10 :\n",
    "    print(f'7 dikali {i} = {7*i}')\n",
    "    i = i + 1"
   ]
  },
  {
   "cell_type": "code",
   "execution_count": 156,
   "metadata": {},
   "outputs": [
    {
     "name": "stdout",
     "output_type": "stream",
     "text": [
      "1 x 1= 1\n",
      "1 x 2= 2\n",
      "1 x 3= 3\n",
      "1 x 4= 4\n",
      "1 x 5= 5\n",
      "1 x 6= 6\n",
      "1 x 7= 7\n",
      "1 x 8= 8\n",
      "1 x 9= 9\n",
      "1 x 10= 10\n",
      "##################################################\n",
      "2 x 1= 2\n",
      "2 x 2= 4\n",
      "2 x 3= 6\n",
      "2 x 4= 8\n",
      "2 x 5= 10\n",
      "2 x 6= 12\n",
      "2 x 7= 14\n",
      "2 x 8= 16\n",
      "2 x 9= 18\n",
      "2 x 10= 20\n",
      "##################################################\n",
      "3 x 1= 3\n",
      "3 x 2= 6\n",
      "3 x 3= 9\n",
      "3 x 4= 12\n",
      "3 x 5= 15\n",
      "3 x 6= 18\n",
      "3 x 7= 21\n",
      "3 x 8= 24\n",
      "3 x 9= 27\n",
      "3 x 10= 30\n",
      "##################################################\n",
      "4 x 1= 4\n",
      "4 x 2= 8\n",
      "4 x 3= 12\n",
      "4 x 4= 16\n",
      "4 x 5= 20\n",
      "4 x 6= 24\n",
      "4 x 7= 28\n",
      "4 x 8= 32\n",
      "4 x 9= 36\n",
      "4 x 10= 40\n",
      "##################################################\n",
      "5 x 1= 5\n",
      "5 x 2= 10\n",
      "5 x 3= 15\n",
      "5 x 4= 20\n",
      "5 x 5= 25\n",
      "5 x 6= 30\n",
      "5 x 7= 35\n",
      "5 x 8= 40\n",
      "5 x 9= 45\n",
      "5 x 10= 50\n",
      "##################################################\n",
      "6 x 1= 6\n",
      "6 x 2= 12\n",
      "6 x 3= 18\n",
      "6 x 4= 24\n",
      "6 x 5= 30\n",
      "6 x 6= 36\n",
      "6 x 7= 42\n",
      "6 x 8= 48\n",
      "6 x 9= 54\n",
      "6 x 10= 60\n",
      "##################################################\n",
      "7 x 1= 7\n",
      "7 x 2= 14\n",
      "7 x 3= 21\n",
      "7 x 4= 28\n",
      "7 x 5= 35\n",
      "7 x 6= 42\n",
      "7 x 7= 49\n",
      "7 x 8= 56\n",
      "7 x 9= 63\n",
      "7 x 10= 70\n",
      "##################################################\n",
      "8 x 1= 8\n",
      "8 x 2= 16\n",
      "8 x 3= 24\n",
      "8 x 4= 32\n",
      "8 x 5= 40\n",
      "8 x 6= 48\n",
      "8 x 7= 56\n",
      "8 x 8= 64\n",
      "8 x 9= 72\n",
      "8 x 10= 80\n",
      "##################################################\n",
      "9 x 1= 9\n",
      "9 x 2= 18\n",
      "9 x 3= 27\n",
      "9 x 4= 36\n",
      "9 x 5= 45\n",
      "9 x 6= 54\n",
      "9 x 7= 63\n",
      "9 x 8= 72\n",
      "9 x 9= 81\n",
      "9 x 10= 90\n",
      "##################################################\n",
      "10 x 1= 10\n",
      "10 x 2= 20\n",
      "10 x 3= 30\n",
      "10 x 4= 40\n",
      "10 x 5= 50\n",
      "10 x 6= 60\n",
      "10 x 7= 70\n",
      "10 x 8= 80\n",
      "10 x 9= 90\n",
      "10 x 10= 100\n",
      "##################################################\n"
     ]
    }
   ],
   "source": [
    "i=1\n",
    "j=1\n",
    "while j <= 10:\n",
    "    while i <= 10:\n",
    "        print(f\"{j} x {i}= {j*i}\")\n",
    "        i = i+1\n",
    "    j = j+1\n",
    "    i = 1\n",
    "    print('#'*50)\n",
    "    \n",
    "        \n"
   ]
  },
  {
   "cell_type": "code",
   "execution_count": 180,
   "metadata": {},
   "outputs": [
    {
     "name": "stdout",
     "output_type": "stream",
     "text": [
      "Abang ini jual pepaya\n",
      "Abang ini jual mangga\n",
      "Abang ini jual pisang\n",
      "Abang ini jual jambu\n"
     ]
    }
   ],
   "source": [
    "#For loop membutuhkan tipe data majemuk\n",
    "TukangBuah= ['pepaya', 'mangga','pisang', 'jambu']\n",
    "i = 0\n",
    "while i < len(TukangBuah):\n",
    "    print(f\"Abang ini jual {TukangBuah[i]}\")\n",
    "    i= i+1\n"
   ]
  },
  {
   "cell_type": "code",
   "execution_count": 181,
   "metadata": {},
   "outputs": [
    {
     "name": "stdout",
     "output_type": "stream",
     "text": [
      "Abang ini jual pepaya\n",
      "Abang ini jual mangga\n",
      "Abang ini jual pisang\n",
      "Abang ini jual jambu\n"
     ]
    }
   ],
   "source": [
    "TukangBuah= ['pepaya', 'mangga','pisang', 'jambu']\n",
    "for buah in TukangBuah:\n",
    "    print(f\"Abang ini jual {buah}\")"
   ]
  },
  {
   "cell_type": "code",
   "execution_count": 183,
   "metadata": {},
   "outputs": [
    {
     "name": "stdout",
     "output_type": "stream",
     "text": [
      "7 X 1 = 7\n",
      "7 X 2 = 14\n",
      "7 X 3 = 21\n",
      "7 X 4 = 28\n",
      "7 X 5 = 35\n",
      "7 X 6 = 42\n",
      "7 X 7 = 49\n",
      "7 X 8 = 56\n",
      "7 X 9 = 63\n",
      "7 X 10 = 70\n"
     ]
    }
   ],
   "source": [
    "i= 1\n",
    "while i <= 10 :\n",
    "    print(f'7 X {i} = {7*i}')\n",
    "    i = i + 1"
   ]
  },
  {
   "cell_type": "code",
   "execution_count": 178,
   "metadata": {},
   "outputs": [
    {
     "name": "stdout",
     "output_type": "stream",
     "text": [
      "7 dikali 1 = 7\n",
      "7 dikali 2 = 14\n",
      "7 dikali 3 = 21\n",
      "7 dikali 4 = 28\n",
      "7 dikali 5 = 35\n",
      "7 dikali 6 = 42\n",
      "7 dikali 7 = 49\n",
      "7 dikali 8 = 56\n",
      "7 dikali 9 = 63\n",
      "7 dikali 10 = 70\n"
     ]
    }
   ],
   "source": [
    "for i in range(1,11):\n",
    "    print(f'7 dikali {i} = {7*i}')"
   ]
  },
  {
   "cell_type": "code",
   "execution_count": 191,
   "metadata": {},
   "outputs": [
    {
     "name": "stdout",
     "output_type": "stream",
     "text": [
      "1 x 1= 1\n",
      "1 x 2= 2\n",
      "1 x 3= 3\n",
      "1 x 4= 4\n",
      "1 x 5= 5\n",
      "1 x 6= 6\n",
      "1 x 7= 7\n",
      "1 x 8= 8\n",
      "1 x 9= 9\n",
      "1 x 10= 10\n",
      "**************************************************\n",
      "2 x 1= 2\n",
      "2 x 2= 4\n",
      "2 x 3= 6\n",
      "2 x 4= 8\n",
      "2 x 5= 10\n",
      "2 x 6= 12\n",
      "2 x 7= 14\n",
      "2 x 8= 16\n",
      "2 x 9= 18\n",
      "2 x 10= 20\n",
      "**************************************************\n",
      "3 x 1= 3\n",
      "3 x 2= 6\n",
      "3 x 3= 9\n",
      "3 x 4= 12\n",
      "3 x 5= 15\n",
      "3 x 6= 18\n",
      "3 x 7= 21\n",
      "3 x 8= 24\n",
      "3 x 9= 27\n",
      "3 x 10= 30\n",
      "**************************************************\n",
      "4 x 1= 4\n",
      "4 x 2= 8\n",
      "4 x 3= 12\n",
      "4 x 4= 16\n",
      "4 x 5= 20\n",
      "4 x 6= 24\n",
      "4 x 7= 28\n",
      "4 x 8= 32\n",
      "4 x 9= 36\n",
      "4 x 10= 40\n",
      "**************************************************\n",
      "5 x 1= 5\n",
      "5 x 2= 10\n",
      "5 x 3= 15\n",
      "5 x 4= 20\n",
      "5 x 5= 25\n",
      "5 x 6= 30\n",
      "5 x 7= 35\n",
      "5 x 8= 40\n",
      "5 x 9= 45\n",
      "5 x 10= 50\n",
      "**************************************************\n",
      "6 x 1= 6\n",
      "6 x 2= 12\n",
      "6 x 3= 18\n",
      "6 x 4= 24\n",
      "6 x 5= 30\n",
      "6 x 6= 36\n",
      "6 x 7= 42\n",
      "6 x 8= 48\n",
      "6 x 9= 54\n",
      "6 x 10= 60\n",
      "**************************************************\n",
      "7 x 1= 7\n",
      "7 x 2= 14\n",
      "7 x 3= 21\n",
      "7 x 4= 28\n",
      "7 x 5= 35\n",
      "7 x 6= 42\n",
      "7 x 7= 49\n",
      "7 x 8= 56\n",
      "7 x 9= 63\n",
      "7 x 10= 70\n",
      "**************************************************\n",
      "8 x 1= 8\n",
      "8 x 2= 16\n",
      "8 x 3= 24\n",
      "8 x 4= 32\n",
      "8 x 5= 40\n",
      "8 x 6= 48\n",
      "8 x 7= 56\n",
      "8 x 8= 64\n",
      "8 x 9= 72\n",
      "8 x 10= 80\n",
      "**************************************************\n",
      "9 x 1= 9\n",
      "9 x 2= 18\n",
      "9 x 3= 27\n",
      "9 x 4= 36\n",
      "9 x 5= 45\n",
      "9 x 6= 54\n",
      "9 x 7= 63\n",
      "9 x 8= 72\n",
      "9 x 9= 81\n",
      "9 x 10= 90\n",
      "**************************************************\n",
      "10 x 1= 10\n",
      "10 x 2= 20\n",
      "10 x 3= 30\n",
      "10 x 4= 40\n",
      "10 x 5= 50\n",
      "10 x 6= 60\n",
      "10 x 7= 70\n",
      "10 x 8= 80\n",
      "10 x 9= 90\n",
      "10 x 10= 100\n",
      "**************************************************\n"
     ]
    }
   ],
   "source": [
    "for j in range(1,11):\n",
    "    for i in range (1,11):\n",
    "        print(f\"{j} x {i}= {j*i}\")\n",
    "    print (\"*\"*50)"
   ]
  }
 ],
 "metadata": {
  "interpreter": {
   "hash": "36ae051b0e8db4ac7f026c621aaf120a3fe78d7c3a02f3266b8a80fa2780d5b2"
  },
  "kernelspec": {
   "display_name": "Python 3.9.7 ('base')",
   "language": "python",
   "name": "python3"
  },
  "language_info": {
   "codemirror_mode": {
    "name": "ipython",
    "version": 3
   },
   "file_extension": ".py",
   "mimetype": "text/x-python",
   "name": "python",
   "nbconvert_exporter": "python",
   "pygments_lexer": "ipython3",
   "version": "3.9.7"
  },
  "orig_nbformat": 4
 },
 "nbformat": 4,
 "nbformat_minor": 2
}
